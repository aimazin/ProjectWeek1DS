{
 "cells": [
  {
   "cell_type": "code",
   "execution_count": 119,
   "id": "fe4f45e7",
   "metadata": {},
   "outputs": [],
   "source": [
    "import pandas as pd\n",
    "import numpy as np\n",
    "import matplotlib.pyplot as plt\n",
    "import seaborn as sns"
   ]
  },
  {
   "cell_type": "code",
   "execution_count": 120,
   "id": "dbefba59",
   "metadata": {},
   "outputs": [],
   "source": [
    "df = pd.read_csv('raw_house_data.csv')"
   ]
  },
  {
   "cell_type": "code",
   "execution_count": 121,
   "id": "6726ae2a",
   "metadata": {},
   "outputs": [
    {
     "data": {
      "text/html": [
       "<div>\n",
       "<style scoped>\n",
       "    .dataframe tbody tr th:only-of-type {\n",
       "        vertical-align: middle;\n",
       "    }\n",
       "\n",
       "    .dataframe tbody tr th {\n",
       "        vertical-align: top;\n",
       "    }\n",
       "\n",
       "    .dataframe thead th {\n",
       "        text-align: right;\n",
       "    }\n",
       "</style>\n",
       "<table border=\"1\" class=\"dataframe\">\n",
       "  <thead>\n",
       "    <tr style=\"text-align: right;\">\n",
       "      <th></th>\n",
       "      <th>MLS</th>\n",
       "      <th>sold_price</th>\n",
       "      <th>zipcode</th>\n",
       "      <th>longitude</th>\n",
       "      <th>latitude</th>\n",
       "      <th>lot_acres</th>\n",
       "      <th>taxes</th>\n",
       "      <th>year_built</th>\n",
       "      <th>bedrooms</th>\n",
       "      <th>fireplaces</th>\n",
       "    </tr>\n",
       "  </thead>\n",
       "  <tbody>\n",
       "    <tr>\n",
       "      <th>count</th>\n",
       "      <td>5.000000e+03</td>\n",
       "      <td>5.000000e+03</td>\n",
       "      <td>5000.000000</td>\n",
       "      <td>5000.000000</td>\n",
       "      <td>5000.000000</td>\n",
       "      <td>4990.000000</td>\n",
       "      <td>5.000000e+03</td>\n",
       "      <td>5000.00000</td>\n",
       "      <td>5000.000000</td>\n",
       "      <td>4975.000000</td>\n",
       "    </tr>\n",
       "    <tr>\n",
       "      <th>mean</th>\n",
       "      <td>2.127070e+07</td>\n",
       "      <td>7.746262e+05</td>\n",
       "      <td>85723.025600</td>\n",
       "      <td>-110.912107</td>\n",
       "      <td>32.308512</td>\n",
       "      <td>4.661317</td>\n",
       "      <td>9.402828e+03</td>\n",
       "      <td>1992.32800</td>\n",
       "      <td>3.933800</td>\n",
       "      <td>1.885226</td>\n",
       "    </tr>\n",
       "    <tr>\n",
       "      <th>std</th>\n",
       "      <td>2.398508e+06</td>\n",
       "      <td>3.185556e+05</td>\n",
       "      <td>38.061712</td>\n",
       "      <td>0.120629</td>\n",
       "      <td>0.178028</td>\n",
       "      <td>51.685230</td>\n",
       "      <td>1.729385e+05</td>\n",
       "      <td>65.48614</td>\n",
       "      <td>1.245362</td>\n",
       "      <td>1.136578</td>\n",
       "    </tr>\n",
       "    <tr>\n",
       "      <th>min</th>\n",
       "      <td>3.042851e+06</td>\n",
       "      <td>1.690000e+05</td>\n",
       "      <td>85118.000000</td>\n",
       "      <td>-112.520168</td>\n",
       "      <td>31.356362</td>\n",
       "      <td>0.000000</td>\n",
       "      <td>0.000000e+00</td>\n",
       "      <td>0.00000</td>\n",
       "      <td>1.000000</td>\n",
       "      <td>0.000000</td>\n",
       "    </tr>\n",
       "    <tr>\n",
       "      <th>25%</th>\n",
       "      <td>2.140718e+07</td>\n",
       "      <td>5.850000e+05</td>\n",
       "      <td>85718.000000</td>\n",
       "      <td>-110.979260</td>\n",
       "      <td>32.277484</td>\n",
       "      <td>0.580000</td>\n",
       "      <td>4.803605e+03</td>\n",
       "      <td>1987.00000</td>\n",
       "      <td>3.000000</td>\n",
       "      <td>1.000000</td>\n",
       "    </tr>\n",
       "    <tr>\n",
       "      <th>50%</th>\n",
       "      <td>2.161469e+07</td>\n",
       "      <td>6.750000e+05</td>\n",
       "      <td>85737.000000</td>\n",
       "      <td>-110.923420</td>\n",
       "      <td>32.318517</td>\n",
       "      <td>0.990000</td>\n",
       "      <td>6.223760e+03</td>\n",
       "      <td>1999.00000</td>\n",
       "      <td>4.000000</td>\n",
       "      <td>2.000000</td>\n",
       "    </tr>\n",
       "    <tr>\n",
       "      <th>75%</th>\n",
       "      <td>2.180480e+07</td>\n",
       "      <td>8.350000e+05</td>\n",
       "      <td>85749.000000</td>\n",
       "      <td>-110.859078</td>\n",
       "      <td>32.394334</td>\n",
       "      <td>1.757500</td>\n",
       "      <td>8.082830e+03</td>\n",
       "      <td>2006.00000</td>\n",
       "      <td>4.000000</td>\n",
       "      <td>3.000000</td>\n",
       "    </tr>\n",
       "    <tr>\n",
       "      <th>max</th>\n",
       "      <td>2.192856e+07</td>\n",
       "      <td>5.300000e+06</td>\n",
       "      <td>86323.000000</td>\n",
       "      <td>-109.454637</td>\n",
       "      <td>34.927884</td>\n",
       "      <td>2154.000000</td>\n",
       "      <td>1.221508e+07</td>\n",
       "      <td>2019.00000</td>\n",
       "      <td>36.000000</td>\n",
       "      <td>9.000000</td>\n",
       "    </tr>\n",
       "  </tbody>\n",
       "</table>\n",
       "</div>"
      ],
      "text/plain": [
       "                MLS    sold_price       zipcode    longitude     latitude  \\\n",
       "count  5.000000e+03  5.000000e+03   5000.000000  5000.000000  5000.000000   \n",
       "mean   2.127070e+07  7.746262e+05  85723.025600  -110.912107    32.308512   \n",
       "std    2.398508e+06  3.185556e+05     38.061712     0.120629     0.178028   \n",
       "min    3.042851e+06  1.690000e+05  85118.000000  -112.520168    31.356362   \n",
       "25%    2.140718e+07  5.850000e+05  85718.000000  -110.979260    32.277484   \n",
       "50%    2.161469e+07  6.750000e+05  85737.000000  -110.923420    32.318517   \n",
       "75%    2.180480e+07  8.350000e+05  85749.000000  -110.859078    32.394334   \n",
       "max    2.192856e+07  5.300000e+06  86323.000000  -109.454637    34.927884   \n",
       "\n",
       "         lot_acres         taxes  year_built     bedrooms   fireplaces  \n",
       "count  4990.000000  5.000000e+03  5000.00000  5000.000000  4975.000000  \n",
       "mean      4.661317  9.402828e+03  1992.32800     3.933800     1.885226  \n",
       "std      51.685230  1.729385e+05    65.48614     1.245362     1.136578  \n",
       "min       0.000000  0.000000e+00     0.00000     1.000000     0.000000  \n",
       "25%       0.580000  4.803605e+03  1987.00000     3.000000     1.000000  \n",
       "50%       0.990000  6.223760e+03  1999.00000     4.000000     2.000000  \n",
       "75%       1.757500  8.082830e+03  2006.00000     4.000000     3.000000  \n",
       "max    2154.000000  1.221508e+07  2019.00000    36.000000     9.000000  "
      ]
     },
     "execution_count": 121,
     "metadata": {},
     "output_type": "execute_result"
    }
   ],
   "source": [
    "df.describe()"
   ]
  },
  {
   "cell_type": "code",
   "execution_count": 122,
   "id": "51411c3a",
   "metadata": {},
   "outputs": [
    {
     "name": "stdout",
     "output_type": "stream",
     "text": [
      "<class 'pandas.core.frame.DataFrame'>\n",
      "RangeIndex: 5000 entries, 0 to 4999\n",
      "Data columns (total 16 columns):\n",
      " #   Column            Non-Null Count  Dtype  \n",
      "---  ------            --------------  -----  \n",
      " 0   MLS               5000 non-null   int64  \n",
      " 1   sold_price        5000 non-null   float64\n",
      " 2   zipcode           5000 non-null   int64  \n",
      " 3   longitude         5000 non-null   float64\n",
      " 4   latitude          5000 non-null   float64\n",
      " 5   lot_acres         4990 non-null   float64\n",
      " 6   taxes             5000 non-null   float64\n",
      " 7   year_built        5000 non-null   int64  \n",
      " 8   bedrooms          5000 non-null   int64  \n",
      " 9   bathrooms         5000 non-null   object \n",
      " 10  sqrt_ft           5000 non-null   object \n",
      " 11  garage            5000 non-null   object \n",
      " 12  kitchen_features  5000 non-null   object \n",
      " 13  fireplaces        4975 non-null   float64\n",
      " 14  floor_covering    5000 non-null   object \n",
      " 15  HOA               5000 non-null   object \n",
      "dtypes: float64(6), int64(4), object(6)\n",
      "memory usage: 625.1+ KB\n"
     ]
    }
   ],
   "source": [
    "df.info()"
   ]
  },
  {
   "cell_type": "code",
   "execution_count": 123,
   "id": "69299695",
   "metadata": {},
   "outputs": [
    {
     "data": {
      "text/html": [
       "<div>\n",
       "<style scoped>\n",
       "    .dataframe tbody tr th:only-of-type {\n",
       "        vertical-align: middle;\n",
       "    }\n",
       "\n",
       "    .dataframe tbody tr th {\n",
       "        vertical-align: top;\n",
       "    }\n",
       "\n",
       "    .dataframe thead th {\n",
       "        text-align: right;\n",
       "    }\n",
       "</style>\n",
       "<table border=\"1\" class=\"dataframe\">\n",
       "  <thead>\n",
       "    <tr style=\"text-align: right;\">\n",
       "      <th></th>\n",
       "      <th>MLS</th>\n",
       "      <th>sold_price</th>\n",
       "      <th>zipcode</th>\n",
       "      <th>longitude</th>\n",
       "      <th>latitude</th>\n",
       "      <th>lot_acres</th>\n",
       "      <th>taxes</th>\n",
       "      <th>year_built</th>\n",
       "      <th>bedrooms</th>\n",
       "      <th>bathrooms</th>\n",
       "      <th>sqrt_ft</th>\n",
       "      <th>garage</th>\n",
       "      <th>kitchen_features</th>\n",
       "      <th>fireplaces</th>\n",
       "      <th>floor_covering</th>\n",
       "      <th>HOA</th>\n",
       "    </tr>\n",
       "  </thead>\n",
       "  <tbody>\n",
       "    <tr>\n",
       "      <th>0</th>\n",
       "      <td>21530491</td>\n",
       "      <td>5300000.0</td>\n",
       "      <td>85637</td>\n",
       "      <td>-110.378200</td>\n",
       "      <td>31.356362</td>\n",
       "      <td>2154.00</td>\n",
       "      <td>5272.00</td>\n",
       "      <td>1941</td>\n",
       "      <td>13</td>\n",
       "      <td>10</td>\n",
       "      <td>10500</td>\n",
       "      <td>0</td>\n",
       "      <td>Dishwasher, Freezer, Refrigerator, Oven</td>\n",
       "      <td>6.0</td>\n",
       "      <td>Mexican Tile, Wood</td>\n",
       "      <td>0</td>\n",
       "    </tr>\n",
       "    <tr>\n",
       "      <th>1</th>\n",
       "      <td>21529082</td>\n",
       "      <td>4200000.0</td>\n",
       "      <td>85646</td>\n",
       "      <td>-111.045371</td>\n",
       "      <td>31.594213</td>\n",
       "      <td>1707.00</td>\n",
       "      <td>10422.36</td>\n",
       "      <td>1997</td>\n",
       "      <td>2</td>\n",
       "      <td>2</td>\n",
       "      <td>7300</td>\n",
       "      <td>0</td>\n",
       "      <td>Dishwasher, Garbage Disposal</td>\n",
       "      <td>5.0</td>\n",
       "      <td>Natural Stone, Other</td>\n",
       "      <td>0</td>\n",
       "    </tr>\n",
       "    <tr>\n",
       "      <th>2</th>\n",
       "      <td>3054672</td>\n",
       "      <td>4200000.0</td>\n",
       "      <td>85646</td>\n",
       "      <td>-111.040707</td>\n",
       "      <td>31.594844</td>\n",
       "      <td>1707.00</td>\n",
       "      <td>10482.00</td>\n",
       "      <td>1997</td>\n",
       "      <td>2</td>\n",
       "      <td>3</td>\n",
       "      <td>None</td>\n",
       "      <td>None</td>\n",
       "      <td>Dishwasher, Garbage Disposal, Refrigerator</td>\n",
       "      <td>5.0</td>\n",
       "      <td>Natural Stone, Other: Rock</td>\n",
       "      <td>None</td>\n",
       "    </tr>\n",
       "    <tr>\n",
       "      <th>3</th>\n",
       "      <td>21919321</td>\n",
       "      <td>4500000.0</td>\n",
       "      <td>85646</td>\n",
       "      <td>-111.035925</td>\n",
       "      <td>31.645878</td>\n",
       "      <td>636.67</td>\n",
       "      <td>8418.58</td>\n",
       "      <td>1930</td>\n",
       "      <td>7</td>\n",
       "      <td>5</td>\n",
       "      <td>9019</td>\n",
       "      <td>4</td>\n",
       "      <td>Dishwasher, Double Sink, Pantry: Butler, Refri...</td>\n",
       "      <td>4.0</td>\n",
       "      <td>Ceramic Tile, Laminate, Wood</td>\n",
       "      <td>None</td>\n",
       "    </tr>\n",
       "    <tr>\n",
       "      <th>4</th>\n",
       "      <td>21306357</td>\n",
       "      <td>3411450.0</td>\n",
       "      <td>85750</td>\n",
       "      <td>-110.813768</td>\n",
       "      <td>32.285162</td>\n",
       "      <td>3.21</td>\n",
       "      <td>15393.00</td>\n",
       "      <td>1995</td>\n",
       "      <td>4</td>\n",
       "      <td>6</td>\n",
       "      <td>6396</td>\n",
       "      <td>3</td>\n",
       "      <td>Dishwasher, Garbage Disposal, Refrigerator, Mi...</td>\n",
       "      <td>5.0</td>\n",
       "      <td>Carpet, Concrete</td>\n",
       "      <td>55</td>\n",
       "    </tr>\n",
       "  </tbody>\n",
       "</table>\n",
       "</div>"
      ],
      "text/plain": [
       "        MLS  sold_price  zipcode   longitude   latitude  lot_acres     taxes  \\\n",
       "0  21530491   5300000.0    85637 -110.378200  31.356362    2154.00   5272.00   \n",
       "1  21529082   4200000.0    85646 -111.045371  31.594213    1707.00  10422.36   \n",
       "2   3054672   4200000.0    85646 -111.040707  31.594844    1707.00  10482.00   \n",
       "3  21919321   4500000.0    85646 -111.035925  31.645878     636.67   8418.58   \n",
       "4  21306357   3411450.0    85750 -110.813768  32.285162       3.21  15393.00   \n",
       "\n",
       "   year_built  bedrooms bathrooms sqrt_ft garage  \\\n",
       "0        1941        13        10   10500      0   \n",
       "1        1997         2         2    7300      0   \n",
       "2        1997         2         3    None   None   \n",
       "3        1930         7         5    9019      4   \n",
       "4        1995         4         6    6396      3   \n",
       "\n",
       "                                    kitchen_features  fireplaces  \\\n",
       "0            Dishwasher, Freezer, Refrigerator, Oven         6.0   \n",
       "1                       Dishwasher, Garbage Disposal         5.0   \n",
       "2         Dishwasher, Garbage Disposal, Refrigerator         5.0   \n",
       "3  Dishwasher, Double Sink, Pantry: Butler, Refri...         4.0   \n",
       "4  Dishwasher, Garbage Disposal, Refrigerator, Mi...         5.0   \n",
       "\n",
       "                 floor_covering   HOA  \n",
       "0            Mexican Tile, Wood     0  \n",
       "1          Natural Stone, Other     0  \n",
       "2    Natural Stone, Other: Rock  None  \n",
       "3  Ceramic Tile, Laminate, Wood  None  \n",
       "4              Carpet, Concrete    55  "
      ]
     },
     "execution_count": 123,
     "metadata": {},
     "output_type": "execute_result"
    }
   ],
   "source": [
    "df.head()"
   ]
  },
  {
   "cell_type": "markdown",
   "id": "e4efceca",
   "metadata": {},
   "source": [
    "### Are there duplicates"
   ]
  },
  {
   "cell_type": "code",
   "execution_count": 124,
   "id": "497e03df",
   "metadata": {},
   "outputs": [
    {
     "data": {
      "text/plain": [
       "False"
      ]
     },
     "execution_count": 124,
     "metadata": {},
     "output_type": "execute_result"
    }
   ],
   "source": [
    "df.duplicated().any() == True"
   ]
  },
  {
   "cell_type": "code",
   "execution_count": 125,
   "id": "2d8a0f14",
   "metadata": {},
   "outputs": [
    {
     "data": {
      "text/plain": [
       "0.1124"
      ]
     },
     "execution_count": 125,
     "metadata": {},
     "output_type": "execute_result"
    }
   ],
   "source": [
    "562/5000"
   ]
  },
  {
   "cell_type": "markdown",
   "id": "3094243e",
   "metadata": {},
   "source": [
    "### Deal with NaNs"
   ]
  },
  {
   "cell_type": "code",
   "execution_count": 126,
   "id": "0490d4dc",
   "metadata": {},
   "outputs": [
    {
     "data": {
      "text/plain": [
       "<AxesSubplot:xlabel='lot_acres', ylabel='Count'>"
      ]
     },
     "execution_count": 126,
     "metadata": {},
     "output_type": "execute_result"
    },
    {
     "data": {
      "image/png": "[encoded data removed]",
      "text/plain": [
       "<Figure size 640x480 with 1 Axes>"
      ]
     },
     "metadata": {},
     "output_type": "display_data"
    }
   ],
   "source": [
    "sns.histplot(data=df, x='lot_acres')"
   ]
  },
  {
   "cell_type": "code",
   "execution_count": 128,
   "id": "13a08523",
   "metadata": {},
   "outputs": [],
   "source": [
    "lot_acresmedian = df.lot_acres.median()\n",
    "df['lot_acres']=df.lot_acres.fillna(lot_acresmedian)"
   ]
  },
  {
   "cell_type": "code",
   "execution_count": 129,
   "id": "4643d353",
   "metadata": {},
   "outputs": [
    {
     "data": {
      "text/plain": [
       "<AxesSubplot:xlabel='fireplaces', ylabel='Count'>"
      ]
     },
     "execution_count": 129,
     "metadata": {},
     "output_type": "execute_result"
    },
    {
     "data": {
      "image/png": "[encoded data removed]",
      "text/plain": [
       "<Figure size 640x480 with 1 Axes>"
      ]
     },
     "metadata": {},
     "output_type": "display_data"
    }
   ],
   "source": [
    "sns.histplot(data=df, x='fireplaces')"
   ]
  },
  {
   "cell_type": "code",
   "execution_count": 130,
   "id": "15c481a6",
   "metadata": {},
   "outputs": [],
   "source": [
    "fpmean = np.round(df.fireplaces.mean())\n",
    "df['fireplaces'] = df.fireplaces.fillna(fpmean)"
   ]
  },
  {
   "cell_type": "code",
   "execution_count": 131,
   "id": "2c4220c1",
   "metadata": {},
   "outputs": [
    {
     "name": "stdout",
     "output_type": "stream",
     "text": [
      "<class 'pandas.core.frame.DataFrame'>\n",
      "RangeIndex: 5000 entries, 0 to 4999\n",
      "Data columns (total 16 columns):\n",
      " #   Column            Non-Null Count  Dtype  \n",
      "---  ------            --------------  -----  \n",
      " 0   MLS               5000 non-null   int64  \n",
      " 1   sold_price        5000 non-null   float64\n",
      " 2   zipcode           5000 non-null   int64  \n",
      " 3   longitude         5000 non-null   float64\n",
      " 4   latitude          5000 non-null   float64\n",
      " 5   lot_acres         5000 non-null   float64\n",
      " 6   taxes             5000 non-null   float64\n",
      " 7   year_built        5000 non-null   int64  \n",
      " 8   bedrooms          5000 non-null   int64  \n",
      " 9   bathrooms         5000 non-null   object \n",
      " 10  sqrt_ft           5000 non-null   object \n",
      " 11  garage            5000 non-null   object \n",
      " 12  kitchen_features  5000 non-null   object \n",
      " 13  fireplaces        5000 non-null   float64\n",
      " 14  floor_covering    5000 non-null   object \n",
      " 15  HOA               5000 non-null   object \n",
      "dtypes: float64(6), int64(4), object(6)\n",
      "memory usage: 625.1+ KB\n"
     ]
    }
   ],
   "source": [
    "df.info()"
   ]
  },
  {
   "cell_type": "markdown",
   "id": "b2061c1e",
   "metadata": {},
   "source": [
    "### Dealing with None strings"
   ]
  },
  {
   "cell_type": "code",
   "execution_count": 132,
   "id": "aa0dedf2",
   "metadata": {},
   "outputs": [
    {
     "data": {
      "text/plain": [
       "MLS                   0\n",
       "sold_price            0\n",
       "zipcode               0\n",
       "longitude             0\n",
       "latitude              0\n",
       "lot_acres             0\n",
       "taxes                 0\n",
       "year_built            0\n",
       "bedrooms              0\n",
       "bathrooms             6\n",
       "sqrt_ft              56\n",
       "garage                7\n",
       "kitchen_features     33\n",
       "fireplaces            0\n",
       "floor_covering        1\n",
       "HOA                 562\n",
       "dtype: int64"
      ]
     },
     "execution_count": 132,
     "metadata": {},
     "output_type": "execute_result"
    }
   ],
   "source": [
    "df[df == 'None'].count()"
   ]
  },
  {
   "cell_type": "code",
   "execution_count": 133,
   "id": "6cc9d226",
   "metadata": {},
   "outputs": [
    {
     "data": {
      "text/plain": [
       "<AxesSubplot:xlabel='HOA', ylabel='Count'>"
      ]
     },
     "execution_count": 133,
     "metadata": {},
     "output_type": "execute_result"
    },
    {
     "data": {
      "image/png": "[encoded data removed]",
      "text/plain": [
       "<Figure size 640x480 with 1 Axes>"
      ]
     },
     "metadata": {},
     "output_type": "display_data"
    }
   ],
   "source": [
    "sns.histplot(data=df, x='HOA')"
   ]
  },
  {
   "cell_type": "code",
   "execution_count": 134,
   "id": "2ecd391d",
   "metadata": {},
   "outputs": [
    {
     "name": "stderr",
     "output_type": "stream",
     "text": [
      "C:\\Users\\aimaz\\AppData\\Local\\Temp\\ipykernel_11592\\881798665.py:1: SettingWithCopyWarning: \n",
      "A value is trying to be set on a copy of a slice from a DataFrame\n",
      "\n",
      "See the caveats in the documentation: https://pandas.pydata.org/pandas-docs/stable/user_guide/indexing.html#returning-a-view-versus-a-copy\n",
      "  df.HOA[df.HOA =='None'] = np.nan\n"
     ]
    }
   ],
   "source": [
    "df.HOA[df.HOA =='None'] = np.nan"
   ]
  },
  {
   "cell_type": "code",
   "execution_count": 135,
   "id": "df7ba840",
   "metadata": {},
   "outputs": [],
   "source": [
    "t=[]\n",
    "for i in df.HOA:\n",
    "    t.append(float(str(i).replace(',','',1)))\n"
   ]
  },
  {
   "cell_type": "code",
   "execution_count": 136,
   "id": "2ffcdc62",
   "metadata": {},
   "outputs": [],
   "source": [
    "df['HOA'] = np.array(t)"
   ]
  },
  {
   "cell_type": "code",
   "execution_count": 137,
   "id": "851bf633",
   "metadata": {},
   "outputs": [],
   "source": [
    "HOAmedian = df.HOA.median()\n",
    "df['HOA'] = df['HOA'].fillna(HOAmedian)"
   ]
  },
  {
   "cell_type": "code",
   "execution_count": 138,
   "id": "02abaac4",
   "metadata": {},
   "outputs": [
    {
     "data": {
      "text/plain": [
       "Dishwasher, Garbage Disposal, Refrigerator, Microwave, Oven                                                                                                                                                 1719\n",
       "Dishwasher, Garbage Disposal, Microwave, Oven                                                                                                                                                                270\n",
       "Compactor, Dishwasher, Garbage Disposal, Refrigerator, Microwave, Oven                                                                                                                                       189\n",
       "Dishwasher, Garbage Disposal, Refrigerator, Oven                                                                                                                                                             181\n",
       "Dishwasher, Freezer, Garbage Disposal, Refrigerator, Microwave, Oven                                                                                                                                         127\n",
       "                                                                                                                                                                                                            ... \n",
       "Desk, Dishwasher, Electric Range, Garbage Disposal, Pantry: Cabinet, Refrigerator, Appliance Color: Stainless, Countertops: Tile, Microwave                                                                    1\n",
       "Dishwasher, Double Sink, Electric Range, Freezer, Garbage Disposal, Island, Pantry: Closet, Refrigerator, Wet Bar, Appliance Color: Stainless, Countertops: Granite, Microwave: Convection                     1\n",
       "Compactor, Desk, Dishwasher, Garbage Disposal, Gas Range, Island, Lazy Susan, Pantry: Walk-In, Refrigerator, Appliance Color: Stainless, Countertops: Granite, Microwave: Built-in/Stainless, Oven: Wall       1\n",
       "Dishwasher, Garbage Disposal, Refrigerator, Appliance Color: Black, Microwave: Black, Oven: Black                                                                                                              1\n",
       "Compactor, Dishwasher, Double Sink, Island, Appliance Color: Stainless                                                                                                                                         1\n",
       "Name: kitchen_features, Length: 1872, dtype: int64"
      ]
     },
     "execution_count": 138,
     "metadata": {},
     "output_type": "execute_result"
    }
   ],
   "source": [
    "df.kitchen_features.value_counts()"
   ]
  },
  {
   "cell_type": "code",
   "execution_count": 139,
   "id": "b38ffa0a",
   "metadata": {},
   "outputs": [
    {
     "name": "stderr",
     "output_type": "stream",
     "text": [
      "C:\\Users\\aimaz\\AppData\\Local\\Temp\\ipykernel_11592\\551495920.py:1: SettingWithCopyWarning: \n",
      "A value is trying to be set on a copy of a slice from a DataFrame\n",
      "\n",
      "See the caveats in the documentation: https://pandas.pydata.org/pandas-docs/stable/user_guide/indexing.html#returning-a-view-versus-a-copy\n",
      "  df.kitchen_features[df.kitchen_features =='None'] = np.nan\n"
     ]
    }
   ],
   "source": [
    "df.kitchen_features[df.kitchen_features =='None'] = np.nan"
   ]
  },
  {
   "cell_type": "code",
   "execution_count": 140,
   "id": "02065e5e",
   "metadata": {},
   "outputs": [],
   "source": [
    "df['kitchen_features'] = df['kitchen_features'].fillna(df.kitchen_features.value_counts().max())"
   ]
  },
  {
   "cell_type": "code",
   "execution_count": 141,
   "id": "eab4200b",
   "metadata": {},
   "outputs": [
    {
     "data": {
      "text/plain": [
       "<AxesSubplot:xlabel='bathrooms', ylabel='Count'>"
      ]
     },
     "execution_count": 141,
     "metadata": {},
     "output_type": "execute_result"
    },
    {
     "data": {
      "image/png": "[encoded data removed]",
      "text/plain": [
       "<Figure size 640x480 with 1 Axes>"
      ]
     },
     "metadata": {},
     "output_type": "display_data"
    }
   ],
   "source": [
    "sns.histplot(data=df, x='bathrooms')"
   ]
  },
  {
   "cell_type": "code",
   "execution_count": 142,
   "id": "9afd566c",
   "metadata": {},
   "outputs": [
    {
     "name": "stderr",
     "output_type": "stream",
     "text": [
      "C:\\Users\\aimaz\\AppData\\Local\\Temp\\ipykernel_11592\\2351757611.py:1: SettingWithCopyWarning: \n",
      "A value is trying to be set on a copy of a slice from a DataFrame\n",
      "\n",
      "See the caveats in the documentation: https://pandas.pydata.org/pandas-docs/stable/user_guide/indexing.html#returning-a-view-versus-a-copy\n",
      "  df.bathrooms[df.bathrooms =='None'] = np.nan\n"
     ]
    }
   ],
   "source": [
    "df.bathrooms[df.bathrooms =='None'] = np.nan"
   ]
  },
  {
   "cell_type": "code",
   "execution_count": 143,
   "id": "14e2ffba",
   "metadata": {},
   "outputs": [],
   "source": [
    "d=[]\n",
    "for i in df.bathrooms:\n",
    "    d.append(float(i))\n",
    "bathmeanround = round(pd.Series(d).median())\n",
    "df['bathrooms'] = pd.Series(d).fillna(bathmeanround)"
   ]
  },
  {
   "cell_type": "code",
   "execution_count": 144,
   "id": "26e8771e",
   "metadata": {},
   "outputs": [
    {
     "data": {
      "text/plain": [
       "<AxesSubplot:xlabel='sqrt_ft', ylabel='Count'>"
      ]
     },
     "execution_count": 144,
     "metadata": {},
     "output_type": "execute_result"
    },
    {
     "data": {
      "image/png": "[encoded data removed]",
      "text/plain": [
       "<Figure size 640x480 with 1 Axes>"
      ]
     },
     "metadata": {},
     "output_type": "display_data"
    }
   ],
   "source": [
    "sns.histplot(data=df, x='sqrt_ft')"
   ]
  },
  {
   "cell_type": "code",
   "execution_count": 145,
   "id": "fcab7395",
   "metadata": {},
   "outputs": [
    {
     "name": "stderr",
     "output_type": "stream",
     "text": [
      "C:\\Users\\aimaz\\AppData\\Local\\Temp\\ipykernel_11592\\2377459743.py:1: SettingWithCopyWarning: \n",
      "A value is trying to be set on a copy of a slice from a DataFrame\n",
      "\n",
      "See the caveats in the documentation: https://pandas.pydata.org/pandas-docs/stable/user_guide/indexing.html#returning-a-view-versus-a-copy\n",
      "  df.sqrt_ft[df.sqrt_ft =='None'] = np.nan\n"
     ]
    }
   ],
   "source": [
    "df.sqrt_ft[df.sqrt_ft =='None'] = np.nan"
   ]
  },
  {
   "cell_type": "code",
   "execution_count": 146,
   "id": "15e68c21",
   "metadata": {},
   "outputs": [],
   "source": [
    "sqrt_ftmedian = df.sqrt_ft.median()\n",
    "df['sqrt_ft'] = df['sqrt_ft'].fillna(sqrt_ftmedian)"
   ]
  },
  {
   "cell_type": "code",
   "execution_count": 147,
   "id": "2e09f489",
   "metadata": {},
   "outputs": [
    {
     "data": {
      "text/plain": [
       "<AxesSubplot:xlabel='garage', ylabel='Count'>"
      ]
     },
     "execution_count": 147,
     "metadata": {},
     "output_type": "execute_result"
    },
    {
     "data": {
      "image/png": "[encoded data removed]",
      "text/plain": [
       "<Figure size 640x480 with 1 Axes>"
      ]
     },
     "metadata": {},
     "output_type": "display_data"
    }
   ],
   "source": [
    "sns.histplot(data=df, x='garage')"
   ]
  },
  {
   "cell_type": "code",
   "execution_count": 148,
   "id": "2d6441ac",
   "metadata": {},
   "outputs": [
    {
     "name": "stderr",
     "output_type": "stream",
     "text": [
      "C:\\Users\\aimaz\\AppData\\Local\\Temp\\ipykernel_11592\\3090868425.py:1: SettingWithCopyWarning: \n",
      "A value is trying to be set on a copy of a slice from a DataFrame\n",
      "\n",
      "See the caveats in the documentation: https://pandas.pydata.org/pandas-docs/stable/user_guide/indexing.html#returning-a-view-versus-a-copy\n",
      "  df.garage[df.garage =='None'] = np.nan\n"
     ]
    }
   ],
   "source": [
    "df.garage[df.garage =='None'] = np.nan"
   ]
  },
  {
   "cell_type": "code",
   "execution_count": 149,
   "id": "cd9129de",
   "metadata": {},
   "outputs": [],
   "source": [
    "garagemedian = df.garage.median()\n",
    "df['garage'] = df['garage'].fillna(garagemedian)"
   ]
  },
  {
   "cell_type": "code",
   "execution_count": 150,
   "id": "b46758ea",
   "metadata": {},
   "outputs": [
    {
     "data": {
      "text/plain": [
       "Carpet, Ceramic Tile                           1235\n",
       "Carpet, Natural Stone                           579\n",
       "Carpet, Ceramic Tile, Wood                      258\n",
       "Ceramic Tile                                    247\n",
       "Concrete                                        242\n",
       "                                               ... \n",
       "Carpet, Concrete, Wood, Other: travertine         1\n",
       "Concrete, Wood, Other: Mesquite wood floors       1\n",
       "Carpet, Ceramic Tile, Wood, Other: Slate          1\n",
       "Carpet, Other: brick pavers                       1\n",
       "Concrete, Other: Cork                             1\n",
       "Name: floor_covering, Length: 311, dtype: int64"
      ]
     },
     "execution_count": 150,
     "metadata": {},
     "output_type": "execute_result"
    }
   ],
   "source": [
    "df.floor_covering.value_counts()"
   ]
  },
  {
   "cell_type": "code",
   "execution_count": 151,
   "id": "426f4895",
   "metadata": {},
   "outputs": [],
   "source": [
    "df['floor_covering'] = df.floor_covering.replace('None','Carpet, Ceramic Tile ')"
   ]
  },
  {
   "cell_type": "code",
   "execution_count": 152,
   "id": "71f8d240",
   "metadata": {},
   "outputs": [
    {
     "name": "stdout",
     "output_type": "stream",
     "text": [
      "<class 'pandas.core.frame.DataFrame'>\n",
      "RangeIndex: 5000 entries, 0 to 4999\n",
      "Data columns (total 16 columns):\n",
      " #   Column            Non-Null Count  Dtype  \n",
      "---  ------            --------------  -----  \n",
      " 0   MLS               5000 non-null   int64  \n",
      " 1   sold_price        5000 non-null   float64\n",
      " 2   zipcode           5000 non-null   int64  \n",
      " 3   longitude         5000 non-null   float64\n",
      " 4   latitude          5000 non-null   float64\n",
      " 5   lot_acres         5000 non-null   float64\n",
      " 6   taxes             5000 non-null   float64\n",
      " 7   year_built        5000 non-null   int64  \n",
      " 8   bedrooms          5000 non-null   int64  \n",
      " 9   bathrooms         5000 non-null   float64\n",
      " 10  sqrt_ft           5000 non-null   object \n",
      " 11  garage            5000 non-null   object \n",
      " 12  kitchen_features  5000 non-null   object \n",
      " 13  fireplaces        5000 non-null   float64\n",
      " 14  floor_covering    5000 non-null   object \n",
      " 15  HOA               5000 non-null   float64\n",
      "dtypes: float64(8), int64(4), object(4)\n",
      "memory usage: 625.1+ KB\n"
     ]
    }
   ],
   "source": [
    "df.info()"
   ]
  },
  {
   "cell_type": "code",
   "execution_count": 153,
   "id": "8e3b1c18",
   "metadata": {},
   "outputs": [
    {
     "data": {
      "text/plain": [
       "MLS                 0\n",
       "sold_price          0\n",
       "zipcode             0\n",
       "longitude           0\n",
       "latitude            0\n",
       "lot_acres           0\n",
       "taxes               0\n",
       "year_built          0\n",
       "bedrooms            0\n",
       "bathrooms           0\n",
       "sqrt_ft             0\n",
       "garage              0\n",
       "kitchen_features    0\n",
       "fireplaces          0\n",
       "floor_covering      0\n",
       "HOA                 0\n",
       "dtype: int64"
      ]
     },
     "execution_count": 153,
     "metadata": {},
     "output_type": "execute_result"
    }
   ],
   "source": [
    "df[df == 'None'].count()"
   ]
  },
  {
   "cell_type": "code",
   "execution_count": 154,
   "id": "89002822",
   "metadata": {},
   "outputs": [
    {
     "data": {
      "text/plain": [
       "0       2154.00\n",
       "1       1707.00\n",
       "2       1707.00\n",
       "3        636.67\n",
       "4          3.21\n",
       "         ...   \n",
       "4995       4.98\n",
       "4996       1.42\n",
       "4997      12.06\n",
       "4998       1.01\n",
       "4999       4.16\n",
       "Name: lot_acres, Length: 5000, dtype: float64"
      ]
     },
     "execution_count": 154,
     "metadata": {},
     "output_type": "execute_result"
    }
   ],
   "source": [
    "dt=[]\n",
    "for i in df.lot_acres:\n",
    "    dt.append(float(str(i)))\n",
    "\n",
    "df['lot_acres'] = np.array(dt)\n",
    "df.lot_acres"
   ]
  },
  {
   "cell_type": "code",
   "execution_count": 159,
   "id": "dd51aa9c",
   "metadata": {},
   "outputs": [],
   "source": [
    "tdt=[]\n",
    "for i in df.garage:\n",
    "    tdt.append(float(str(i)))\n",
    "\n",
    "df['garage'] = pd.Series(tdt)"
   ]
  },
  {
   "cell_type": "code",
   "execution_count": 162,
   "id": "f7b05cb5",
   "metadata": {},
   "outputs": [],
   "source": [
    "tdtt=[]\n",
    "for i in df.sqrt_ft:\n",
    "    tdtt.append(float(str(i)))\n",
    "\n",
    "df['sqrt_ft'] = pd.Series(tdtt)"
   ]
  },
  {
   "cell_type": "code",
   "execution_count": 164,
   "id": "174155fa",
   "metadata": {},
   "outputs": [
    {
     "name": "stdout",
     "output_type": "stream",
     "text": [
      "<class 'pandas.core.frame.DataFrame'>\n",
      "RangeIndex: 5000 entries, 0 to 4999\n",
      "Data columns (total 16 columns):\n",
      " #   Column            Non-Null Count  Dtype  \n",
      "---  ------            --------------  -----  \n",
      " 0   MLS               5000 non-null   int64  \n",
      " 1   sold_price        5000 non-null   float64\n",
      " 2   zipcode           5000 non-null   int64  \n",
      " 3   longitude         5000 non-null   float64\n",
      " 4   latitude          5000 non-null   float64\n",
      " 5   lot_acres         5000 non-null   float64\n",
      " 6   taxes             5000 non-null   float64\n",
      " 7   year_built        5000 non-null   int64  \n",
      " 8   bedrooms          5000 non-null   int64  \n",
      " 9   bathrooms         5000 non-null   float64\n",
      " 10  sqrt_ft           5000 non-null   float64\n",
      " 11  garage            5000 non-null   float64\n",
      " 12  kitchen_features  5000 non-null   object \n",
      " 13  fireplaces        5000 non-null   float64\n",
      " 14  floor_covering    5000 non-null   object \n",
      " 15  HOA               5000 non-null   float64\n",
      "dtypes: float64(10), int64(4), object(2)\n",
      "memory usage: 625.1+ KB\n"
     ]
    }
   ],
   "source": [
    "df.info()"
   ]
  },
  {
   "cell_type": "code",
   "execution_count": 163,
   "id": "0f82616e",
   "metadata": {},
   "outputs": [
    {
     "data": {
      "text/plain": [
       "<AxesSubplot:>"
      ]
     },
     "execution_count": 163,
     "metadata": {},
     "output_type": "execute_result"
    },
    {
     "data": {
      "image/png": "[encoded data removed]",
      "text/plain": [
       "<Figure size 640x480 with 2 Axes>"
      ]
     },
     "metadata": {},
     "output_type": "display_data"
    }
   ],
   "source": [
    "corr = df.corr()\n",
    "sns.heatmap(corr)"
   ]
  }
 ],
 "metadata": {
  "kernelspec": {
   "display_name": "Python 3 (ipykernel)",
   "language": "python",
   "name": "python3"
  },
  "language_info": {
   "codemirror_mode": {
    "name": "ipython",
    "version": 3
   },
   "file_extension": ".py",
   "mimetype": "text/x-python",
   "name": "python",
   "nbconvert_exporter": "python",
   "pygments_lexer": "ipython3",
   "version": "3.9.13"
  }
 },
 "nbformat": 4,
 "nbformat_minor": 5
}
